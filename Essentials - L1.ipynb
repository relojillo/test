{
 "cells": [
  {
   "cell_type": "code",
   "execution_count": 1,
   "id": "f80f24b1",
   "metadata": {
    "scrolled": true
   },
   "outputs": [
    {
     "name": "stdout",
     "output_type": "stream",
     "text": [
      "This is a line of code to compare versions in git of the same file\n"
     ]
    }
   ],
   "source": [
    "print('This is a line of code to compare versions in git of the same file')"
   ]
  },
  {
   "cell_type": "code",
   "execution_count": 1,
   "id": "4a749bc7",
   "metadata": {
    "scrolled": false
   },
   "outputs": [
    {
     "data": {
      "text/plain": [
       "3"
      ]
     },
     "execution_count": 1,
     "metadata": {},
     "output_type": "execute_result"
    }
   ],
   "source": [
    "1 + 2"
   ]
  },
  {
   "cell_type": "code",
   "execution_count": 3,
   "id": "1806f252",
   "metadata": {},
   "outputs": [
    {
     "data": {
      "text/plain": [
       "37000"
      ]
     },
     "execution_count": 3,
     "metadata": {},
     "output_type": "execute_result"
    }
   ],
   "source": [
    "37_000"
   ]
  },
  {
   "cell_type": "code",
   "execution_count": 4,
   "id": "7cf00b15",
   "metadata": {},
   "outputs": [
    {
     "data": {
      "text/plain": [
       "int"
      ]
     },
     "execution_count": 4,
     "metadata": {},
     "output_type": "execute_result"
    }
   ],
   "source": [
    "type(-56)"
   ]
  },
  {
   "cell_type": "code",
   "execution_count": 6,
   "id": "fa0be480",
   "metadata": {},
   "outputs": [
    {
     "data": {
      "text/plain": [
       "int"
      ]
     },
     "execution_count": 6,
     "metadata": {},
     "output_type": "execute_result"
    }
   ],
   "source": [
    "type(46.)"
   ]
  },
  {
   "cell_type": "code",
   "execution_count": 7,
   "id": "15a6b90b",
   "metadata": {},
   "outputs": [
    {
     "data": {
      "text/plain": [
       "float"
      ]
     },
     "execution_count": 7,
     "metadata": {},
     "output_type": "execute_result"
    }
   ],
   "source": [
    "type( -0.1e-3 ) # what is this number?\n"
   ]
  },
  {
   "cell_type": "code",
   "execution_count": 8,
   "id": "f6ae47cd",
   "metadata": {},
   "outputs": [
    {
     "data": {
      "text/plain": [
       "2.5"
      ]
     },
     "execution_count": 8,
     "metadata": {},
     "output_type": "execute_result"
    }
   ],
   "source": [
    "5/2"
   ]
  },
  {
   "cell_type": "code",
   "execution_count": 1,
   "id": "2d8d3676",
   "metadata": {},
   "outputs": [
    {
     "data": {
      "text/plain": [
       "2"
      ]
     },
     "execution_count": 1,
     "metadata": {},
     "output_type": "execute_result"
    }
   ],
   "source": [
    "5//2"
   ]
  },
  {
   "cell_type": "code",
   "execution_count": 4,
   "id": "b1617a84",
   "metadata": {},
   "outputs": [
    {
     "data": {
      "text/plain": [
       "1"
      ]
     },
     "execution_count": 4,
     "metadata": {},
     "output_type": "execute_result"
    }
   ],
   "source": [
    "6//4"
   ]
  },
  {
   "cell_type": "code",
   "execution_count": 10,
   "id": "472f253b",
   "metadata": {},
   "outputs": [
    {
     "data": {
      "text/plain": [
       "1.2345678901234568e+29"
      ]
     },
     "execution_count": 10,
     "metadata": {},
     "output_type": "execute_result"
    }
   ],
   "source": [
    "123_456_789_012_345_678_901_234_567_890."
   ]
  },
  {
   "cell_type": "code",
   "execution_count": 11,
   "id": "4cacc3d9",
   "metadata": {},
   "outputs": [
    {
     "data": {
      "text/plain": [
       "0.005"
      ]
     },
     "execution_count": 11,
     "metadata": {},
     "output_type": "execute_result"
    }
   ],
   "source": [
    "5e-3"
   ]
  },
  {
   "cell_type": "code",
   "execution_count": 15,
   "id": "4271ffe6",
   "metadata": {},
   "outputs": [
    {
     "data": {
      "text/plain": [
       "1"
      ]
     },
     "execution_count": 15,
     "metadata": {},
     "output_type": "execute_result"
    }
   ],
   "source": [
    "10//6"
   ]
  },
  {
   "cell_type": "code",
   "execution_count": 17,
   "id": "25c3c034",
   "metadata": {},
   "outputs": [
    {
     "data": {
      "text/plain": [
       "1"
      ]
     },
     "execution_count": 17,
     "metadata": {},
     "output_type": "execute_result"
    }
   ],
   "source": [
    "5%2"
   ]
  },
  {
   "cell_type": "code",
   "execution_count": 20,
   "id": "1829aad8",
   "metadata": {},
   "outputs": [
    {
     "data": {
      "text/plain": [
       "'hola\\nchao'"
      ]
     },
     "execution_count": 20,
     "metadata": {},
     "output_type": "execute_result"
    }
   ],
   "source": [
    "'''hola\n",
    "chao'''"
   ]
  },
  {
   "cell_type": "code",
   "execution_count": 23,
   "id": "c278d98a",
   "metadata": {
    "scrolled": true
   },
   "outputs": [
    {
     "data": {
      "text/plain": [
       "'hola es una palabra'"
      ]
     },
     "execution_count": 23,
     "metadata": {},
     "output_type": "execute_result"
    }
   ],
   "source": [
    "'hola ' + 'es '+'una '+'palabra' # Ojo con el espacio"
   ]
  },
  {
   "cell_type": "code",
   "execution_count": 25,
   "id": "563181c1",
   "metadata": {},
   "outputs": [
    {
     "data": {
      "text/plain": [
       "'Data, he said, data! Data, he said, data! Data, he said, data! '"
      ]
     },
     "execution_count": 25,
     "metadata": {},
     "output_type": "execute_result"
    }
   ],
   "source": [
    "'Data, he said, data! ' * 3"
   ]
  },
  {
   "cell_type": "code",
   "execution_count": 27,
   "id": "6c005df8",
   "metadata": {},
   "outputs": [
    {
     "data": {
      "text/plain": [
       "'hola'"
      ]
     },
     "execution_count": 27,
     "metadata": {},
     "output_type": "execute_result"
    }
   ],
   "source": [
    "var = 'hola'\n",
    "var"
   ]
  },
  {
   "cell_type": "code",
   "execution_count": 7,
   "id": "d9f792ac",
   "metadata": {},
   "outputs": [
    {
     "data": {
      "text/plain": [
       "3"
      ]
     },
     "execution_count": 7,
     "metadata": {},
     "output_type": "execute_result"
    }
   ],
   "source": [
    "a, b = 1, 2\n",
    "a + b"
   ]
  },
  {
   "cell_type": "code",
   "execution_count": 31,
   "id": "62934b2e",
   "metadata": {},
   "outputs": [
    {
     "data": {
      "text/plain": [
       "3"
      ]
     },
     "execution_count": 31,
     "metadata": {},
     "output_type": "execute_result"
    }
   ],
   "source": [
    "a = 1\n",
    "b = 2\n",
    "a + b"
   ]
  },
  {
   "cell_type": "code",
   "execution_count": 33,
   "id": "0c772bc6",
   "metadata": {},
   "outputs": [
    {
     "data": {
      "text/plain": [
       "1"
      ]
     },
     "execution_count": 33,
     "metadata": {},
     "output_type": "execute_result"
    }
   ],
   "source": [
    "x, y, z = 1, \"b\", 3*7"
   ]
  },
  {
   "cell_type": "code",
   "execution_count": 35,
   "id": "5e10a96a",
   "metadata": {},
   "outputs": [
    {
     "data": {
      "text/plain": [
       "10"
      ]
     },
     "execution_count": 35,
     "metadata": {},
     "output_type": "execute_result"
    }
   ],
   "source": [
    "v = 7\n",
    "v += 3\n",
    "v"
   ]
  },
  {
   "cell_type": "code",
   "execution_count": 36,
   "id": "2b1c47a4",
   "metadata": {},
   "outputs": [
    {
     "data": {
      "text/plain": [
       "False"
      ]
     },
     "execution_count": 36,
     "metadata": {},
     "output_type": "execute_result"
    }
   ],
   "source": [
    "5 > 4 and 6 > 8"
   ]
  },
  {
   "cell_type": "code",
   "execution_count": 37,
   "id": "c8577e11",
   "metadata": {},
   "outputs": [
    {
     "data": {
      "text/plain": [
       "True"
      ]
     },
     "execution_count": 37,
     "metadata": {},
     "output_type": "execute_result"
    }
   ],
   "source": [
    "5 > 4 or 6 > 8"
   ]
  },
  {
   "cell_type": "code",
   "execution_count": 38,
   "id": "acf83db5",
   "metadata": {},
   "outputs": [
    {
     "data": {
      "text/plain": [
       "True"
      ]
     },
     "execution_count": 38,
     "metadata": {},
     "output_type": "execute_result"
    }
   ],
   "source": [
    "not(5 == 6)"
   ]
  },
  {
   "cell_type": "code",
   "execution_count": 39,
   "id": "626b3c2b",
   "metadata": {},
   "outputs": [],
   "source": [
    "a = [1,2,3]"
   ]
  },
  {
   "cell_type": "code",
   "execution_count": 40,
   "id": "d44cc2a6",
   "metadata": {},
   "outputs": [
    {
     "data": {
      "text/plain": [
       "list"
      ]
     },
     "execution_count": 40,
     "metadata": {},
     "output_type": "execute_result"
    }
   ],
   "source": [
    "type(a)"
   ]
  },
  {
   "cell_type": "code",
   "execution_count": 41,
   "id": "2cf36e96",
   "metadata": {},
   "outputs": [],
   "source": [
    "b = [True, False, True]"
   ]
  },
  {
   "cell_type": "code",
   "execution_count": 42,
   "id": "f8f10225",
   "metadata": {},
   "outputs": [
    {
     "data": {
      "text/plain": [
       "list"
      ]
     },
     "execution_count": 42,
     "metadata": {},
     "output_type": "execute_result"
    }
   ],
   "source": [
    "type(b)"
   ]
  },
  {
   "cell_type": "code",
   "execution_count": 43,
   "id": "f551392c",
   "metadata": {},
   "outputs": [
    {
     "data": {
      "text/plain": [
       "True"
      ]
     },
     "execution_count": 43,
     "metadata": {},
     "output_type": "execute_result"
    }
   ],
   "source": [
    "b[0]"
   ]
  },
  {
   "cell_type": "code",
   "execution_count": 44,
   "id": "d52f3525",
   "metadata": {},
   "outputs": [
    {
     "data": {
      "text/plain": [
       "1"
      ]
     },
     "execution_count": 44,
     "metadata": {},
     "output_type": "execute_result"
    }
   ],
   "source": [
    "a[0] # In python the first index is zero! "
   ]
  },
  {
   "cell_type": "code",
   "execution_count": 45,
   "id": "47747de7",
   "metadata": {},
   "outputs": [],
   "source": [
    "c = [[1,2,3], ['a', 'b', 'c']]"
   ]
  },
  {
   "cell_type": "code",
   "execution_count": 46,
   "id": "a4da9394",
   "metadata": {},
   "outputs": [
    {
     "data": {
      "text/plain": [
       "list"
      ]
     },
     "execution_count": 46,
     "metadata": {},
     "output_type": "execute_result"
    }
   ],
   "source": [
    "type(c)"
   ]
  },
  {
   "cell_type": "code",
   "execution_count": 53,
   "id": "ab298c96",
   "metadata": {},
   "outputs": [
    {
     "data": {
      "text/plain": [
       "[1, 2, 3]"
      ]
     },
     "execution_count": 53,
     "metadata": {},
     "output_type": "execute_result"
    }
   ],
   "source": [
    "c[0]"
   ]
  },
  {
   "cell_type": "code",
   "execution_count": 52,
   "id": "65e5760d",
   "metadata": {},
   "outputs": [
    {
     "data": {
      "text/plain": [
       "2"
      ]
     },
     "execution_count": 52,
     "metadata": {},
     "output_type": "execute_result"
    }
   ],
   "source": [
    "c[0][1]"
   ]
  },
  {
   "cell_type": "code",
   "execution_count": 58,
   "id": "836fc235",
   "metadata": {},
   "outputs": [
    {
     "data": {
      "text/plain": [
       "tuple"
      ]
     },
     "execution_count": 58,
     "metadata": {},
     "output_type": "execute_result"
    }
   ],
   "source": [
    "# Tuples\n",
    "# Once created, cannot change it\n",
    "\n",
    "d = (1,2,3)\n",
    "type(d)"
   ]
  },
  {
   "cell_type": "code",
   "execution_count": 57,
   "id": "8ae8a570",
   "metadata": {},
   "outputs": [
    {
     "data": {
      "text/plain": [
       "[2, 3]"
      ]
     },
     "execution_count": 57,
     "metadata": {},
     "output_type": "execute_result"
    }
   ],
   "source": [
    "d = [2,3]\n",
    "d"
   ]
  },
  {
   "cell_type": "code",
   "execution_count": 59,
   "id": "674c6fce",
   "metadata": {},
   "outputs": [
    {
     "data": {
      "text/plain": [
       "tuple"
      ]
     },
     "execution_count": 59,
     "metadata": {},
     "output_type": "execute_result"
    }
   ],
   "source": [
    "singleDayTuple = ( \"Mon\", )\n",
    "type( singleDayTuple )"
   ]
  },
  {
   "cell_type": "code",
   "execution_count": 60,
   "id": "5d807435",
   "metadata": {},
   "outputs": [
    {
     "data": {
      "text/plain": [
       "int"
      ]
     },
     "execution_count": 60,
     "metadata": {},
     "output_type": "execute_result"
    }
   ],
   "source": [
    "type( ( 1 ) )"
   ]
  },
  {
   "cell_type": "code",
   "execution_count": 61,
   "id": "35fdfea2",
   "metadata": {},
   "outputs": [
    {
     "data": {
      "text/plain": [
       "tuple"
      ]
     },
     "execution_count": 61,
     "metadata": {},
     "output_type": "execute_result"
    }
   ],
   "source": [
    "type( ( 1, ) ) # This how you create a tuple with a single element. You need to add the comma! b"
   ]
  },
  {
   "cell_type": "code",
   "execution_count": 62,
   "id": "6bc96671",
   "metadata": {},
   "outputs": [],
   "source": [
    "x, y, z = ( \"a\", True, 0 )"
   ]
  },
  {
   "cell_type": "code",
   "execution_count": 64,
   "id": "0c0f3daa",
   "metadata": {},
   "outputs": [
    {
     "data": {
      "text/plain": [
       "True"
      ]
     },
     "execution_count": 64,
     "metadata": {},
     "output_type": "execute_result"
    }
   ],
   "source": [
    "y"
   ]
  },
  {
   "cell_type": "code",
   "execution_count": 74,
   "id": "3f6cd922",
   "metadata": {},
   "outputs": [
    {
     "data": {
      "text/plain": [
       "6"
      ]
     },
     "execution_count": 74,
     "metadata": {},
     "output_type": "execute_result"
    }
   ],
   "source": [
    "a = [1,2,3,4,5,6]\n",
    "a[len(a)-1]"
   ]
  },
  {
   "cell_type": "code",
   "execution_count": 68,
   "id": "de39d574",
   "metadata": {},
   "outputs": [
    {
     "data": {
      "text/plain": [
       "5"
      ]
     },
     "execution_count": 68,
     "metadata": {},
     "output_type": "execute_result"
    }
   ],
   "source": [
    "a[-2]"
   ]
  },
  {
   "cell_type": "code",
   "execution_count": 72,
   "id": "a33d43ee",
   "metadata": {},
   "outputs": [
    {
     "data": {
      "text/plain": [
       "[100, 2, 3, 4, 5, 6]"
      ]
     },
     "execution_count": 72,
     "metadata": {},
     "output_type": "execute_result"
    }
   ],
   "source": [
    "b = a\n",
    "b[0] = 100\n",
    "b\n",
    "a \n",
    "# This is a very important feature! Copies are by default connected! Changes in one leads to changes in the other. "
   ]
  },
  {
   "cell_type": "code",
   "execution_count": 76,
   "id": "b096b22b",
   "metadata": {},
   "outputs": [
    {
     "data": {
      "text/plain": [
       "[1, 2, 3, 4, 5, 6]"
      ]
     },
     "execution_count": 76,
     "metadata": {},
     "output_type": "execute_result"
    }
   ],
   "source": [
    "a = [1,2,3,4,5,6]\n",
    "b = a.copy() # This command is important! \n",
    "b[0] = 100\n",
    "b\n",
    "a "
   ]
  },
  {
   "cell_type": "code",
   "execution_count": 83,
   "id": "91d64d45",
   "metadata": {},
   "outputs": [
    {
     "data": {
      "text/plain": [
       "[1, 4, 9, 16, 25]"
      ]
     },
     "execution_count": 83,
     "metadata": {},
     "output_type": "execute_result"
    }
   ],
   "source": [
    "# List comprehension zijn belangrijk\n",
    "\n",
    "someNums = [ 1, -2, 3, -4, 5 ]        # an iterable object\n",
    "[x**2 for x in someNums]              # a list comprehension"
   ]
  },
  {
   "cell_type": "code",
   "execution_count": 84,
   "id": "f1c67dc7",
   "metadata": {},
   "outputs": [
    {
     "data": {
      "text/plain": [
       "[(1, 1), (-2, 4), (3, 9), (-4, 16), (5, 25)]"
      ]
     },
     "execution_count": 84,
     "metadata": {},
     "output_type": "execute_result"
    }
   ],
   "source": [
    "[(x,x**2) for x in someNums] "
   ]
  },
  {
   "cell_type": "code",
   "execution_count": 86,
   "id": "262b5920",
   "metadata": {
    "scrolled": true
   },
   "outputs": [
    {
     "data": {
      "text/plain": [
       "[-2]"
      ]
     },
     "execution_count": 86,
     "metadata": {},
     "output_type": "execute_result"
    }
   ],
   "source": [
    "[x for x in someNums if x<0 and x > -3]"
   ]
  },
  {
   "cell_type": "code",
   "execution_count": 88,
   "id": "1b09e93c",
   "metadata": {},
   "outputs": [
    {
     "ename": "TypeError",
     "evalue": "'tuple' object does not support item assignment",
     "output_type": "error",
     "traceback": [
      "\u001b[1;31m---------------------------------------------------------------------------\u001b[0m",
      "\u001b[1;31mTypeError\u001b[0m                                 Traceback (most recent call last)",
      "Cell \u001b[1;32mIn[88], line 2\u001b[0m\n\u001b[0;32m      1\u001b[0m nums \u001b[38;5;241m=\u001b[39m ( \u001b[38;5;241m1\u001b[39m, \u001b[38;5;241m2\u001b[39m, \u001b[38;5;241m3\u001b[39m )\n\u001b[1;32m----> 2\u001b[0m \u001b[43mnums\u001b[49m\u001b[43m[\u001b[49m\u001b[38;5;241;43m1\u001b[39;49m\u001b[43m]\u001b[49m \u001b[38;5;241m=\u001b[39m \u001b[38;5;241m22\u001b[39m              \u001b[38;5;66;03m# what's wrong here?\u001b[39;00m\n",
      "\u001b[1;31mTypeError\u001b[0m: 'tuple' object does not support item assignment"
     ]
    }
   ],
   "source": [
    "nums = ( 1, 2, 3 )\n",
    "#nums[1] = 22              # what's wrong here?"
   ]
  },
  {
   "cell_type": "code",
   "execution_count": 89,
   "id": "f9b899f0",
   "metadata": {},
   "outputs": [
    {
     "ename": "TypeError",
     "evalue": "'str' object does not support item assignment",
     "output_type": "error",
     "traceback": [
      "\u001b[1;31m---------------------------------------------------------------------------\u001b[0m",
      "\u001b[1;31mTypeError\u001b[0m                                 Traceback (most recent call last)",
      "Cell \u001b[1;32mIn[89], line 2\u001b[0m\n\u001b[0;32m      1\u001b[0m txt \u001b[38;5;241m=\u001b[39m \u001b[38;5;124m\"\u001b[39m\u001b[38;5;124mStatistics\u001b[39m\u001b[38;5;124m\"\u001b[39m\n\u001b[1;32m----> 2\u001b[0m \u001b[43mtxt\u001b[49m\u001b[43m[\u001b[49m\u001b[38;5;241;43m0\u001b[39;49m\u001b[43m]\u001b[49m \u001b[38;5;241m=\u001b[39m \u001b[38;5;124m\"\u001b[39m\u001b[38;5;124ms\u001b[39m\u001b[38;5;124m\"\u001b[39m              \u001b[38;5;66;03m# what's wrong here?\u001b[39;00m\n",
      "\u001b[1;31mTypeError\u001b[0m: 'str' object does not support item assignment"
     ]
    }
   ],
   "source": [
    "txt = \"Statistics\"\n",
    "#txt[0] = \"s\"              # what's wrong here?\n"
   ]
  },
  {
   "cell_type": "code",
   "execution_count": 97,
   "id": "126ef7aa",
   "metadata": {},
   "outputs": [
    {
     "data": {
      "text/plain": [
       "[1, 2, 3]"
      ]
     },
     "execution_count": 97,
     "metadata": {},
     "output_type": "execute_result"
    }
   ],
   "source": [
    "v = [ 1, 2, 3 ]\n",
    "a = v\n",
    "v = [ 4, 5, 6 ]\n",
    "a"
   ]
  },
  {
   "cell_type": "code",
   "execution_count": 99,
   "id": "78cc1977",
   "metadata": {
    "scrolled": true
   },
   "outputs": [
    {
     "data": {
      "text/plain": [
       "[4, 5, 6, 3]"
      ]
     },
     "execution_count": 99,
     "metadata": {},
     "output_type": "execute_result"
    }
   ],
   "source": [
    "v = [ 1, 2, 3 ]\n",
    "b = v\n",
    "v[0:2] = [ 4, 5, 6 ]\n",
    "b"
   ]
  },
  {
   "cell_type": "code",
   "execution_count": 100,
   "id": "79251c67",
   "metadata": {},
   "outputs": [
    {
     "data": {
      "text/plain": [
       "[4, 5, 6]"
      ]
     },
     "execution_count": 100,
     "metadata": {},
     "output_type": "execute_result"
    }
   ],
   "source": [
    "v = [ 1, 2, 3 ]\n",
    "b = v\n",
    "v[:] = [ 4, 5, 6 ]\n",
    "b\n",
    "\n",
    "# So what I've learned from all this is that the intuitive logic of defining objects in R applies in Python,\n",
    "# as long as you are redefining the whole object. Otherwhise, when modifiying part of the object or the entirity\n",
    "# by calling (v[:]) you mantain the bond between variables with same object allocated. "
   ]
  },
  {
   "cell_type": "code",
   "execution_count": 102,
   "id": "c0f0c717",
   "metadata": {},
   "outputs": [
    {
     "data": {
      "text/plain": [
       "[1, 2]"
      ]
     },
     "execution_count": 102,
     "metadata": {},
     "output_type": "execute_result"
    }
   ],
   "source": [
    "a = [1,2]\n",
    "b = a\n",
    "a = [3,4]\n",
    "b"
   ]
  },
  {
   "cell_type": "code",
   "execution_count": 8,
   "id": "dae6049b",
   "metadata": {
    "scrolled": true
   },
   "outputs": [
    {
     "data": {
      "text/plain": [
       "[3, 4]"
      ]
     },
     "execution_count": 8,
     "metadata": {},
     "output_type": "execute_result"
    }
   ],
   "source": [
    "a = [1,2]\n",
    "b = a\n",
    "a[:] = [3,4]\n",
    "b"
   ]
  },
  {
   "cell_type": "code",
   "execution_count": 112,
   "id": "6c1fcc0e",
   "metadata": {},
   "outputs": [
    {
     "data": {
      "text/plain": [
       "[1, 2, 3, 4, 5]"
      ]
     },
     "execution_count": 112,
     "metadata": {},
     "output_type": "execute_result"
    }
   ],
   "source": [
    "v = [ 5, 2, 1, 4, 3 ]\n",
    "v.sort()\n",
    "v\n",
    "# Here v should be sorted in ascending order [ 1, 2, 3, 4, 5 ]"
   ]
  },
  {
   "cell_type": "code",
   "execution_count": 113,
   "id": "03551b61",
   "metadata": {},
   "outputs": [
    {
     "data": {
      "text/plain": [
       "[5, 4, 3, 2, 1]"
      ]
     },
     "execution_count": 113,
     "metadata": {},
     "output_type": "execute_result"
    }
   ],
   "source": [
    "v = [ 5, 2, 1, 4, 3 ]\n",
    "v.sort(reverse = True)\n",
    "v"
   ]
  },
  {
   "cell_type": "code",
   "execution_count": 156,
   "id": "c397ea84",
   "metadata": {},
   "outputs": [
    {
     "data": {
      "text/plain": [
       "[5, 2, 1, 4, 3]"
      ]
     },
     "execution_count": 156,
     "metadata": {},
     "output_type": "execute_result"
    }
   ],
   "source": [
    "v = [ 5, 2, 1, 4, 3 ]\n",
    "w = v\n",
    "v = v.copy()\n",
    "v.sort()\n",
    "w\n",
    "# ...\n",
    "# Here v should be sorted [ 1, 2, 3, 4, 5 ] but w should still be [ 5, 2, 1, 4, 3 ]"
   ]
  },
  {
   "cell_type": "code",
   "execution_count": 158,
   "id": "4502aa47",
   "metadata": {},
   "outputs": [
    {
     "data": {
      "text/plain": [
       "[3, 4, 1, 2, 5]"
      ]
     },
     "execution_count": 158,
     "metadata": {},
     "output_type": "execute_result"
    }
   ],
   "source": [
    "v = [ 5, 2, 1, 4, 3 ]\n",
    "v.reverse()\n",
    "v\n",
    "\n",
    "# ...\n",
    "# Here v should be reversed [ 3, 4, 1, 2, 5 ]"
   ]
  },
  {
   "cell_type": "code",
   "execution_count": 160,
   "id": "2c868d12",
   "metadata": {},
   "outputs": [
    {
     "data": {
      "text/plain": [
       "[5, 2, 1, 4, 3]"
      ]
     },
     "execution_count": 160,
     "metadata": {},
     "output_type": "execute_result"
    }
   ],
   "source": [
    "v = [ 5, 2, 1, 4, 3 ]\n",
    "w = v.copy()\n",
    "v.reverse()\n",
    "w\n",
    "\n",
    "# ...\n",
    "# Here v should be reversed [ 3, 4, 1, 2, 5 ] but w should still be [ 5, 2, 1, 4, 3 ]"
   ]
  },
  {
   "cell_type": "code",
   "execution_count": 162,
   "id": "e686c4f1",
   "metadata": {},
   "outputs": [
    {
     "data": {
      "text/plain": [
       "['eeeee', 'bb', 'dddd', 'ccc', 'bb']"
      ]
     },
     "execution_count": 162,
     "metadata": {},
     "output_type": "execute_result"
    }
   ],
   "source": [
    "v = [ \"eeeee\", \"bb\", \"a\", \"dddd\", \"ccc\", \"bb\" ]\n",
    "v.remove('a')\n",
    "v\n",
    "\n",
    "\n",
    "# ...\n",
    "# Here, the third element should be deleted from v: [ \"eeeee\", \"bb\", \"dddd\", \"ccc\", \"bb\" ]"
   ]
  },
  {
   "cell_type": "code",
   "execution_count": 163,
   "id": "0c53322b",
   "metadata": {},
   "outputs": [
    {
     "data": {
      "text/plain": [
       "['eeeee', 'a', 'dddd', 'ccc', 'bb']"
      ]
     },
     "execution_count": 163,
     "metadata": {},
     "output_type": "execute_result"
    }
   ],
   "source": [
    "v = [ \"eeeee\", \"bb\", \"a\", \"dddd\", \"ccc\", \"bb\" ]\n",
    "del v[1]\n",
    "v\n",
    "# ...\n",
    "# Here, the first element with value \"bb\" should be removed from v: [ \"eeeee\", \"a\", \"dddd\", \"ccc\", \"bb\" ]\n",
    "# Any ideas how to filter out all \"bb\" elements?"
   ]
  },
  {
   "cell_type": "code",
   "execution_count": 164,
   "id": "37dc8c57",
   "metadata": {},
   "outputs": [
    {
     "data": {
      "text/plain": [
       "['eeeee', 'bb', 'F', 'dddd', 'ccc', 'bb']"
      ]
     },
     "execution_count": 164,
     "metadata": {},
     "output_type": "execute_result"
    }
   ],
   "source": [
    "v = [ \"eeeee\", \"bb\", \"a\", \"dddd\", \"ccc\", \"bb\" ]\n",
    "v[2] = 'F'\n",
    "v\n",
    "\n",
    "# ...\n",
    "# Insert element \"F\" to v at index 2"
   ]
  },
  {
   "cell_type": "code",
   "execution_count": 170,
   "id": "247b7c47",
   "metadata": {},
   "outputs": [
    {
     "data": {
      "text/plain": [
       "['eeeee', 'bb', ['ffffff', 'g', 'ffffff'], 'a', 'dddd', 'ccc', 'bb']"
      ]
     },
     "execution_count": 170,
     "metadata": {},
     "output_type": "execute_result"
    }
   ],
   "source": [
    "v = [ \"eeeee\", \"bb\", \"a\", \"dddd\", \"ccc\", \"bb\" ]\n",
    "w = [ \"ffffff\", \"g\", \"ffffff\" ]\n",
    "v.insert(2, w)\n",
    "v\n",
    "\n",
    "# ...\n",
    "# Insert (\"slice in\") elements of w to v at index 2 (so, that v gets length 9 and v[2:5] has elements from w)."
   ]
  },
  {
   "cell_type": "code",
   "execution_count": 172,
   "id": "6266e4be",
   "metadata": {},
   "outputs": [
    {
     "data": {
      "text/plain": [
       "['eeeee', 'bb', 'ffffff', 'g', 'ffffff', 'a', 'dddd', 'ccc', 'bb']"
      ]
     },
     "execution_count": 172,
     "metadata": {},
     "output_type": "execute_result"
    }
   ],
   "source": [
    "v = [ \"eeeee\", \"bb\", \"a\", \"dddd\", \"ccc\", \"bb\" ]\n",
    "w = [ \"ffffff\", \"g\", \"ffffff\" ]\n",
    "\n",
    "v[0:2] + w + v[2:]\n",
    "\n",
    "# This is another, more accurate way to do it"
   ]
  },
  {
   "cell_type": "code",
   "execution_count": 174,
   "id": "9750676e",
   "metadata": {},
   "outputs": [
    {
     "data": {
      "text/plain": [
       "['eeeee', 'bb', 'a', 'dddd', 'ccc', 'bb', 'F']"
      ]
     },
     "execution_count": 174,
     "metadata": {},
     "output_type": "execute_result"
    }
   ],
   "source": [
    "v = [ \"eeeee\", \"bb\", \"a\", \"dddd\", \"ccc\", \"bb\" ]\n",
    "v.append('F')\n",
    "v\n",
    "\n",
    "# ...\n",
    "# Here, a single new element \"F\" should be *appended* to the end of the list"
   ]
  },
  {
   "cell_type": "code",
   "execution_count": 182,
   "id": "f4c8d31e",
   "metadata": {},
   "outputs": [
    {
     "data": {
      "text/plain": [
       "['eeeee', 'bb', 'a', 'dddd', 'ccc', 'bb', 'ffffff', 'g', 'ffffff']"
      ]
     },
     "execution_count": 182,
     "metadata": {},
     "output_type": "execute_result"
    }
   ],
   "source": [
    "v = [ \"eeeee\", \"bb\", \"a\", \"dddd\", \"ccc\", \"bb\" ]\n",
    "w = [ \"ffffff\", \"g\", \"ffffff\" ]\n",
    "\n",
    "v.extend(w)\n",
    "v\n",
    "# ...\n",
    "# Extend the list by append elements of w to v at the end of v. (so, length of v should be 9!)\n",
    "# What goes wrong with `append(w)` here?"
   ]
  },
  {
   "cell_type": "code",
   "execution_count": 183,
   "id": "939dff3c",
   "metadata": {},
   "outputs": [
    {
     "data": {
      "text/plain": [
       "True"
      ]
     },
     "execution_count": 183,
     "metadata": {},
     "output_type": "execute_result"
    }
   ],
   "source": [
    "# CHECKING MEMBERSHIP\n",
    "\n",
    "v = [ \"ababab\", \"baaab\", \"bbbaa\", \"aabba\", \"aaaab\", \"abbaa\", \"aabbb\", \"abaaa\", \"aaaaa\", \"bbbab\", \"bbbqb\", \"aaaqb\", \"bbbbq\" ]\n",
    "w = \"bbbab\"\n",
    "\n",
    "w in v\n",
    "\n",
    "# ...\n",
    "# How to programmatically find whether the value of w is *in* the iterable list v?\n",
    "# The result should be True or False"
   ]
  },
  {
   "cell_type": "code",
   "execution_count": 194,
   "id": "196d3061",
   "metadata": {},
   "outputs": [
    {
     "data": {
      "text/plain": [
       "True"
      ]
     },
     "execution_count": 194,
     "metadata": {},
     "output_type": "execute_result"
    }
   ],
   "source": [
    "v = [ \"ababab\", \"baaab\", \"bbbaa\", \"aabba\", \"aaaab\", \"abbaa\", \"aabbb\", \"abaaa\", \"aaaaa\", \"bbbab\", \"bbbqb\", \"aaaqb\", \"bbbbq\" ]\n",
    "w = \"abaab\"\n",
    "\n",
    "(w in v) == False\n",
    "\n",
    "w not in v\n",
    "\n",
    "# ...\n",
    "# How to programmatically find whether the value of w is *not in* the iterable list v?\n",
    "# The result should be True or False"
   ]
  },
  {
   "cell_type": "code",
   "execution_count": 195,
   "id": "e95dabba",
   "metadata": {},
   "outputs": [
    {
     "data": {
      "text/plain": [
       "(1, 2, 3, 'x', 'y', 'z')"
      ]
     },
     "execution_count": 195,
     "metadata": {},
     "output_type": "execute_result"
    }
   ],
   "source": [
    "# Understand Conversions\n",
    "\n",
    "lst = [1,2,3,\"x\",\"y\",\"z\"]\n",
    "tuple( lst )              # the argument can be any object which can be iterated over"
   ]
  },
  {
   "cell_type": "code",
   "execution_count": 196,
   "id": "60c0ecec",
   "metadata": {},
   "outputs": [
    {
     "data": {
      "text/plain": [
       "[1, 2, 3, 'x', 'y', 'z']"
      ]
     },
     "execution_count": 196,
     "metadata": {},
     "output_type": "execute_result"
    }
   ],
   "source": [
    "tpl = (1,2,3,\"x\",\"y\",\"z\")\n",
    "list( tpl )               # the argument can be any object which can be iterated over"
   ]
  },
  {
   "cell_type": "code",
   "execution_count": 197,
   "id": "b7da1f5e",
   "metadata": {},
   "outputs": [
    {
     "data": {
      "text/plain": [
       "('S', 't', 'a', 't', 'i', 's', 't', 'i', 'c', 's')"
      ]
     },
     "execution_count": 197,
     "metadata": {},
     "output_type": "execute_result"
    }
   ],
   "source": [
    "tuple( \"Statistics\" )     # \"Statistics\" can be iterated over"
   ]
  },
  {
   "cell_type": "code",
   "execution_count": 198,
   "id": "b723b096",
   "metadata": {},
   "outputs": [
    {
     "data": {
      "text/plain": [
       "['D', 'a', 't', 'a', ' ', 'S', 'c', 'i', 'e', 'n', 'c', 'e']"
      ]
     },
     "execution_count": 198,
     "metadata": {},
     "output_type": "execute_result"
    }
   ],
   "source": [
    "list( 'Data Science' )"
   ]
  },
  {
   "cell_type": "code",
   "execution_count": 3,
   "id": "d868eb52",
   "metadata": {},
   "outputs": [
    {
     "data": {
      "text/plain": [
       "[1, 3, 7, 13, 21, 31]"
      ]
     },
     "execution_count": 3,
     "metadata": {},
     "output_type": "execute_result"
    }
   ],
   "source": [
    "xs = [ 0, 1, 2, 3, 4, 5 ]\n",
    "ys = [x**2 + x + 1 for x in xs]\n",
    "ys\n",
    "\n",
    "# ys = [ ... ]            # write a comprehension to transform \n",
    "                          #   elements of xs according to formula:\n",
    "                          #   y = x^2 + x + 1"
   ]
  },
  {
   "cell_type": "code",
   "execution_count": 12,
   "id": "832f4f32",
   "metadata": {},
   "outputs": [
    {
     "data": {
      "text/plain": [
       "[1, 3, 7, 13, 21, 31]"
      ]
     },
     "execution_count": 12,
     "metadata": {},
     "output_type": "execute_result"
    }
   ],
   "source": [
    "xs = range(0, 6, 1)   # it should correspond to these numbers [ 0, 1, 2, 3, 4, 5 ]\n",
    "ys = [x**2 + x + 1 for x in xs]           # as before: y = x^2 + x + 1\n",
    "ys"
   ]
  },
  {
   "cell_type": "code",
   "execution_count": 14,
   "id": "d250e239",
   "metadata": {},
   "outputs": [
    {
     "data": {
      "text/plain": [
       "['eeeee', 'a', 'dddd', 'ccc']"
      ]
     },
     "execution_count": 14,
     "metadata": {},
     "output_type": "execute_result"
    }
   ],
   "source": [
    "toRemove = \"bb\"\n",
    "v = [ \"eeeee\", \"bb\", \"a\", \"dddd\", \"ccc\", \"bb\" ]\n",
    "w = [x for x in v if x != toRemove]\n",
    "w\n",
    "\n",
    "# w = [ ... for ... if ... ]     # w should not have elements equal the value of toRemove"
   ]
  },
  {
   "cell_type": "code",
   "execution_count": 15,
   "id": "b652cd88",
   "metadata": {},
   "outputs": [
    {
     "data": {
      "text/plain": [
       "['eeeee', 'dddd', 'ccc']"
      ]
     },
     "execution_count": 15,
     "metadata": {},
     "output_type": "execute_result"
    }
   ],
   "source": [
    "toRemove = [ \"bb\", \"a\" ]\n",
    "v = [ \"eeeee\", \"bb\", \"a\", \"dddd\", \"ccc\", \"bb\" ]\n",
    "w = [x for x in v if x not in toRemove]\n",
    "\n",
    "# w = [ ... for ... if ... ]     # w should *not* have elements *in* toRemove list\n",
    "w"
   ]
  },
  {
   "cell_type": "code",
   "execution_count": 18,
   "id": "7217683b",
   "metadata": {},
   "outputs": [
    {
     "data": {
      "text/plain": [
       "True"
      ]
     },
     "execution_count": 18,
     "metadata": {},
     "output_type": "execute_result"
    }
   ],
   "source": [
    "v = [ \"ababab\", \"baaab\", \"bbbaa\", \"aabba\", \"aaaab\", \"abbaa\", \"aabbb\", \"abaaa\", \"aaaaa\", \"bbbab\", \"bbbqb\", \"aaaqb\", \"bbbbq\" ]\n",
    "w = [ \"aaaqb\", \"abbaa\", \"ababab\" ]\n",
    "\n",
    "all(x in v for x in w)\n",
    "\n",
    "# ...\n",
    "# Write a statement checking whether *all* elements of w are *in* v.\n",
    "# The result should be a single True or False value."
   ]
  },
  {
   "cell_type": "code",
   "execution_count": 19,
   "id": "f6be4940",
   "metadata": {},
   "outputs": [
    {
     "data": {
      "text/plain": [
       "True"
      ]
     },
     "execution_count": 19,
     "metadata": {},
     "output_type": "execute_result"
    }
   ],
   "source": [
    "v = [ \"ababab\", \"baaab\", \"bbbaa\", \"aabba\", \"aaaab\", \"abbaa\", \"aabbb\", \"abaaa\", \"aaaaa\", \"bbbab\", \"bbbqb\", \"aaaqb\", \"bbbbq\" ]\n",
    "w = [ \"abaaa\", \"bbbab\", \"qbbbq\" ]\n",
    "\n",
    "any(x in v for x in w)\n",
    "# ...\n",
    "# Write a statement checking whether *any* element of w is *not in* v.\n",
    "# The result should be a single True or False value."
   ]
  },
  {
   "cell_type": "code",
   "execution_count": 58,
   "id": "26bd5e3c",
   "metadata": {},
   "outputs": [
    {
     "data": {
      "text/plain": [
       "[19.045073340238563,\n",
       " 18.101807059704754,\n",
       " 22.230987127541326,\n",
       " 22.090729783037478,\n",
       " 21.383941996057334,\n",
       " 21.85727788279773,\n",
       " 21.719250114311837,\n",
       " 15.405623052414134]"
      ]
     },
     "execution_count": 58,
     "metadata": {},
     "output_type": "execute_result"
    }
   ],
   "source": [
    "heights = [ 173, 179, 167, 195, 173, 184, 162, 169 ]  \n",
    "weights = [ 57, 58, 62, 84, 64, 74, 57, 44 ]         \n",
    "\n",
    "list( zip( heights, weights ) )\n",
    "\n",
    "BMIs = [v / (h/100)**2 for h, v in zip(heights, weights)]\n",
    "\n",
    "# Aquí el punto clave es el 'for h, v'. Eso le permite a Python identificar las variables. \n",
    "\n",
    "BMIs\n",
    "\n",
    "# Write a statement generating list of BMIs for the 8 persons.\n",
    "# Hint: [ ... for h, v in ... ]"
   ]
  },
  {
   "cell_type": "code",
   "execution_count": 28,
   "id": "1f5786fa",
   "metadata": {},
   "outputs": [
    {
     "data": {
      "text/plain": [
       "((0, 173),\n",
       " (1, 179),\n",
       " (2, 167),\n",
       " (3, 195),\n",
       " (4, 173),\n",
       " (5, 184),\n",
       " (6, 162),\n",
       " (7, 169))"
      ]
     },
     "execution_count": 28,
     "metadata": {},
     "output_type": "execute_result"
    }
   ],
   "source": [
    "heights = [ 173, 179, 167, 195, 173, 184, 162, 169 ]  # 8 persons\n",
    "enumerate( heights )                   # this is a generator of ( index, element ) tuple pairs\n",
    "tuple( enumerate( heights ) )          # do you understand this result?"
   ]
  },
  {
   "cell_type": "code",
   "execution_count": 36,
   "id": "ee9e397d",
   "metadata": {},
   "outputs": [
    {
     "data": {
      "text/plain": [
       "'aad'"
      ]
     },
     "execution_count": 36,
     "metadata": {},
     "output_type": "execute_result"
    }
   ],
   "source": [
    "nestedList = [ \"a\", [ \"ba\", [ \"bba\", \"bbb\" ], \"bc\", [ \"bda\", \"bdb\" ], \"be\" ], \"c\", [ [ \"daa\", \"dab\" ] ] ]\n",
    "nestedList\n",
    "\n",
    "nestedList[2]\n",
    "nestedList[1:2]\n",
    "nestedList[1][1]\n",
    "nestedList[3][0][1]\n",
    "nestedList[2][0]\n",
    "nestedList[3][0][0][2]\n",
    "nestedList[3][0][0][2::-1]"
   ]
  },
  {
   "cell_type": "code",
   "execution_count": 56,
   "id": "4809e1f6",
   "metadata": {},
   "outputs": [
    {
     "data": {
      "text/plain": [
       "'gnirts_a_si_sihT'"
      ]
     },
     "execution_count": 56,
     "metadata": {},
     "output_type": "execute_result"
    }
   ],
   "source": [
    "s = 'This_is_a_string'\n",
    "\n",
    "s[0:5:1]\n",
    "\n",
    "s[::-1]\n",
    "\n",
    "# Second ':' is a step command\n",
    "# Also, step = -1 means that it goes backwards"
   ]
  },
  {
   "cell_type": "code",
   "execution_count": 9,
   "id": "3a0f8e9a",
   "metadata": {},
   "outputs": [
    {
     "data": {
      "text/plain": [
       "[2, 5, 3, 2, 1]"
      ]
     },
     "execution_count": 9,
     "metadata": {},
     "output_type": "execute_result"
    }
   ],
   "source": [
    "a = [1,2,3,5,2]\n",
    "a[::-1]"
   ]
  }
 ],
 "metadata": {
  "kernelspec": {
   "display_name": "Python 3 (ipykernel)",
   "language": "python",
   "name": "python3"
  },
  "language_info": {
   "codemirror_mode": {
    "name": "ipython",
    "version": 3
   },
   "file_extension": ".py",
   "mimetype": "text/x-python",
   "name": "python",
   "nbconvert_exporter": "python",
   "pygments_lexer": "ipython3",
   "version": "3.11.1"
  }
 },
 "nbformat": 4,
 "nbformat_minor": 5
}
